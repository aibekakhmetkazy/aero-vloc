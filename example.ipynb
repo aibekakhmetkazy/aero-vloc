{
 "cells": [
  {
   "cell_type": "code",
   "execution_count": null,
   "metadata": {},
   "outputs": [],
   "source": [
    "import aero_vloc as avl\n",
    "\n",
    "from pathlib import Path"
   ]
  },
  {
   "cell_type": "markdown",
   "metadata": {},
   "source": [
    "Downloading a satellite map from Google Maps"
   ]
  },
  {
   "cell_type": "code",
   "execution_count": null,
   "metadata": {},
   "outputs": [],
   "source": [
    "map_downloader = avl.MapDownloader(north_west_lat=46.066412, north_west_lon=38.121383, \n",
    "                                   south_east_lat=45.999099, south_east_lon=38.250987,\n",
    "                                   zoom=17, api_key=\"YOUR API KEY HERE\", \n",
    "                                   folder_to_save=Path('tests/test_data/map'))\n",
    "map_downloader.download_map"
   ]
  },
  {
   "cell_type": "markdown",
   "metadata": {},
   "source": [
    "Specify paths to satellite map and aerial queries.\n",
    "You can also specify arbitrary zoom level and overlap level between frames."
   ]
  },
  {
   "cell_type": "code",
   "execution_count": null,
   "metadata": {},
   "outputs": [],
   "source": [
    "linear_referencer = avl.LinearReferencer()\n",
    "\n",
    "satellite_map = avl.Map(Path(\"tests/test_data/map/map_metadata.txt\"), zoom=1.5, overlap_level=0.25, geo_referencer=linear_referencer)\n",
    "drone_images = avl.UAVSeq(Path(\"tests/test_data/queries/queries.txt\"))"
   ]
  },
  {
   "cell_type": "markdown",
   "metadata": {},
   "source": [
    "Create a VPR system as well as a re-ranking method. EigenPlaces and SuperGlue are used in the example"
   ]
  },
  {
   "cell_type": "code",
   "execution_count": null,
   "metadata": {},
   "outputs": [],
   "source": [
    "eigen_places = avl.EigenPlaces('ResNet101', fc_output_dim=2048)\n",
    "super_glue = avl.SuperGlue(\"weights/superglue_outdoor.pth\", resize=800)\n",
    "faiss_searcher = avl.FaissSearcher()\n",
    "retrieval_system = avl.RetrievalSystem(eigen_places, satellite_map, super_glue, faiss_searcher)\n",
    "\n",
    "homography_estimator = avl.HomographyEstimator()\n",
    "localization_pipeline = avl.LocalizationPipeline(retrieval_system, homography_estimator)"
   ]
  },
  {
   "cell_type": "markdown",
   "metadata": {},
   "source": [
    "Now you can run provided metrics"
   ]
  },
  {
   "cell_type": "code",
   "execution_count": null,
   "metadata": {},
   "outputs": [],
   "source": [
    "recall_value = avl.reference_recall(drone_images, localization_pipeline, k_closest=50, threshold=100)\n",
    "print(recall_value)"
   ]
  }
 ],
 "metadata": {
  "kernelspec": {
   "display_name": "venv",
   "language": "python",
   "name": "python3"
  },
  "language_info": {
   "codemirror_mode": {
    "name": "ipython",
    "version": 3
   },
   "file_extension": ".py",
   "mimetype": "text/x-python",
   "name": "python",
   "nbconvert_exporter": "python",
   "pygments_lexer": "ipython3",
   "version": "3.11.6"
  }
 },
 "nbformat": 4,
 "nbformat_minor": 2
}
