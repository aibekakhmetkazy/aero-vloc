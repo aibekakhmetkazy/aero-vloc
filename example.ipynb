{
 "cells": [
  {
   "cell_type": "code",
   "execution_count": null,
   "metadata": {},
   "outputs": [],
   "source": [
    "import aero_vloc as avl\n",
    "\n",
    "from pathlib import Path"
   ]
  },
  {
   "cell_type": "markdown",
   "metadata": {},
   "source": [
    "Downloading a satellite map from Google Maps"
   ]
  },
  {
   "cell_type": "code",
   "execution_count": null,
   "metadata": {},
   "outputs": [],
   "source": [
    "map_downloader = avl.MapDownloader(north_west_lat=46.066412, north_west_lon=38.121383, \n",
    "                                   south_east_lat=45.999099, south_east_lon=38.250987,\n",
    "                                   zoom=17, overlap_level=0.25, api_key=\"YOUR API KEY HERE\", \n",
    "                                   folder_to_save=Path('test_map'))\n",
    "map_downloader.download_map()"
   ]
  },
  {
   "cell_type": "markdown",
   "metadata": {},
   "source": [
    "Specify paths to satellite map and UAV queries"
   ]
  },
  {
   "cell_type": "code",
   "execution_count": null,
   "metadata": {},
   "outputs": [],
   "source": [
    "satellite_map = avl.Map(Path(\"test_map/map_metadata.txt\"))\n",
    "drone_images = avl.UAVSeq(Path(\"test_queries/queries.txt\"))"
   ]
  },
  {
   "cell_type": "markdown",
   "metadata": {},
   "source": [
    "Create a VPR system as well as a key point matcher. EigenPlaces and SuperGlue are used in the example"
   ]
  },
  {
   "cell_type": "code",
   "execution_count": null,
   "metadata": {},
   "outputs": [],
   "source": [
    "eigen_places = avl.EigenPlaces('ResNet101', fc_output_dim=2048)\n",
    "super_glue = avl.SuperGlue(\"superglue_outdoor.pth\", resize=800)\n",
    "faiss_searcher = avl.FaissSearcher()\n",
    "localization_pipeline = avl.LocalizationPipeline(eigen_places, satellite_map, super_glue, faiss_searcher)"
   ]
  },
  {
   "cell_type": "markdown",
   "metadata": {},
   "source": [
    "The Recall metric can now be evaluated"
   ]
  },
  {
   "cell_type": "code",
   "execution_count": null,
   "metadata": {},
   "outputs": [],
   "source": [
    "recall_result = avl.recall(drone_images, localization_pipeline, k_closest=50, threshold=100)\n",
    "print(recall_result)"
   ]
  }
 ],
 "metadata": {
  "kernelspec": {
   "display_name": "venv",
   "language": "python",
   "name": "python3"
  },
  "language_info": {
   "codemirror_mode": {
    "name": "ipython",
    "version": 3
   },
   "file_extension": ".py",
   "mimetype": "text/x-python",
   "name": "python",
   "nbconvert_exporter": "python",
   "pygments_lexer": "ipython3",
   "version": "3.10.12"
  }
 },
 "nbformat": 4,
 "nbformat_minor": 2
}
